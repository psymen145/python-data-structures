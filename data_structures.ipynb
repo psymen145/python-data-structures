{
 "cells": [
  {
   "cell_type": "code",
   "execution_count": null,
   "metadata": {
    "collapsed": true
   },
   "outputs": [],
   "source": [
    "import timeit"
   ]
  },
  {
   "cell_type": "markdown",
   "metadata": {},
   "source": [
    "# Singly Linked List"
   ]
  },
  {
   "cell_type": "code",
   "execution_count": null,
   "metadata": {
    "collapsed": false
   },
   "outputs": [],
   "source": [
    "class Node():\n",
    "    def __init__(self):\n",
    "        self.value = None\n",
    "        self.next_node = None\n",
    "\n",
    "class linked_list():\n",
    "    def __init__(self):\n",
    "        self.head = None\n",
    "        self.current = None\n",
    "        \n",
    "    # node only has pointer to next node, this allows O(1) push time\n",
    "    def push(self, value):\n",
    "        if self.head is None:\n",
    "            self.head = Node()\n",
    "            self.head.value = value\n",
    "            self.current = self.head\n",
    "        else:\n",
    "            new_node = Node()\n",
    "            new_node.value = value\n",
    "            # change the current's next_node value to the new_node\n",
    "            self.current.next_node = new_node\n",
    "            self.current = new_node\n",
    "            \n",
    "    # pop time is O(n) because you need to traverse up to second to last, structure has no pointer to the previous node\n",
    "    def pop(self):\n",
    "        if self.head:\n",
    "            node_check = self.head\n",
    "            while node_check.next_node:\n",
    "                if node_check.next_node.next_node:\n",
    "                    # this means we aren't at the end\n",
    "                    node_check = node_check.next_node\n",
    "                else:\n",
    "                    node_check.next_node = None\n",
    "                    self.current = node_check\n",
    "                    break\n",
    "    \n",
    "    # O(1) time \n",
    "    def get_last(self):\n",
    "        return self.current.value\n",
    "    \n",
    "    # O(1) time\n",
    "    def get_first(self):\n",
    "        return self.head.value\n",
    "            \n",
    "    def print_list(self):\n",
    "        if self.head is not None:\n",
    "            n = self.head\n",
    "            while n:\n",
    "                print(n.value)\n",
    "                n = n.next_node"
   ]
  },
  {
   "cell_type": "code",
   "execution_count": null,
   "metadata": {
    "collapsed": false
   },
   "outputs": [],
   "source": [
    "l = linked_list()\n",
    "for i in range(100000):\n",
    "    l.push(i)\n",
    "\n",
    "#l.print_list()\n",
    "print('last:', l.get_last(), ' time:', timeit.timeit(l.get_last))\n",
    "print('first:', l.get_first(), ' time:', timeit.timeit(l.get_first))"
   ]
  },
  {
   "cell_type": "code",
   "execution_count": null,
   "metadata": {
    "collapsed": false
   },
   "outputs": [],
   "source": [
    "l.pop()\n",
    "print(l.get_last())"
   ]
  },
  {
   "cell_type": "markdown",
   "metadata": {},
   "source": [
    "# DOUBLE LINKED LIST"
   ]
  },
  {
   "cell_type": "code",
   "execution_count": 14,
   "metadata": {
    "collapsed": true
   },
   "outputs": [],
   "source": [
    "class Node():\n",
    "    def __init__(self):\n",
    "        self.prev_node = None\n",
    "        self.data = None\n",
    "        self.next_node = None\n",
    "        \n",
    "class D_linked_list():\n",
    "    def __init__(self):\n",
    "        self.head = None\n",
    "        self.tail = None\n",
    "        \n",
    "    # 0(1) time for push\n",
    "    def append(self, data):\n",
    "        if self.head is None:\n",
    "            node = Node()\n",
    "            node.data = data\n",
    "            self.head = node\n",
    "            self.tail = node\n",
    "        else:\n",
    "            node = Node()\n",
    "            node.data = data\n",
    "            node.prev_node = self.tail\n",
    "            self.tail.next_node = node\n",
    "            self.tail = node\n",
    "            \n",
    "    def appendleft(self, data):\n",
    "        if self.head is None:\n",
    "            node = Node()\n",
    "            node.data = data\n",
    "            self.head = node\n",
    "            self.tail = node\n",
    "        else:\n",
    "            node = Node()\n",
    "            node.data = data\n",
    "            node.next_node = self.head\n",
    "            self.head.prev_node = node\n",
    "            self.head = node\n",
    "            \n",
    "    def popright(self):\n",
    "        if self.tail:\n",
    "            self.tail = self.tail.prev_node\n",
    "            self.tail.next_node = None\n",
    "            \n",
    "    def popleft(self):\n",
    "        if self.head:\n",
    "            self.head = self.head.next_node\n",
    "            self.head.prev_node = None\n",
    "            \n",
    "    def clear(self):\n",
    "        n = self.head\n",
    "        self.head = None\n",
    "        self.tail = None\n",
    "        while n:\n",
    "            next_node = n.next_node\n",
    "            n = None\n",
    "            n = next_node\n",
    "            \n",
    "    def length(self):\n",
    "        count = 0\n",
    "        n = self.head\n",
    "        while n:\n",
    "            count += 1\n",
    "            n = n.next_node\n",
    "        return count\n",
    "        \n",
    "    def print_dll(self):\n",
    "        n = self.head\n",
    "        while n:\n",
    "            print(n.data)\n",
    "            n = n.next_node"
   ]
  },
  {
   "cell_type": "code",
   "execution_count": 15,
   "metadata": {
    "collapsed": false
   },
   "outputs": [],
   "source": [
    "dll = D_linked_list()\n",
    "for i in range(10):\n",
    "    dll.append(i)\n",
    "    \n",
    "dll.appendleft(99)"
   ]
  },
  {
   "cell_type": "code",
   "execution_count": 16,
   "metadata": {
    "collapsed": false
   },
   "outputs": [
    {
     "name": "stdout",
     "output_type": "stream",
     "text": [
      "99\n",
      "0\n",
      "1\n",
      "2\n",
      "3\n",
      "4\n",
      "5\n",
      "6\n",
      "7\n",
      "8\n",
      "9\n"
     ]
    }
   ],
   "source": [
    "dll.print_dll()"
   ]
  },
  {
   "cell_type": "code",
   "execution_count": 17,
   "metadata": {
    "collapsed": true
   },
   "outputs": [],
   "source": [
    "dll.clear()"
   ]
  },
  {
   "cell_type": "code",
   "execution_count": 18,
   "metadata": {
    "collapsed": false
   },
   "outputs": [],
   "source": [
    "dll.print_dll()"
   ]
  },
  {
   "cell_type": "code",
   "execution_count": 19,
   "metadata": {
    "collapsed": false
   },
   "outputs": [
    {
     "name": "stdout",
     "output_type": "stream",
     "text": [
      "9\n"
     ]
    }
   ],
   "source": [
    "for i in range(10):\n",
    "    dll.append(i)\n",
    "    \n",
    "dll.popright()\n",
    "#dll.print_dll()\n",
    "print(dll.length())"
   ]
  },
  {
   "cell_type": "markdown",
   "metadata": {},
   "source": [
    "# stack"
   ]
  },
  {
   "cell_type": "code",
   "execution_count": 33,
   "metadata": {
    "collapsed": true
   },
   "outputs": [],
   "source": [
    "# unlike c++ stack, we do not need to allocate new memory because we are not using an array, we are using a python list\n",
    "# the python list handles the sizing\n",
    "class my_stack():\n",
    "    def __init__(self):\n",
    "        self.items = []\n",
    "        self.size = 0\n",
    "        \n",
    "    def isEmpty(self):\n",
    "        return self.size == 0\n",
    "    \n",
    "    def size(self):\n",
    "        return self.size\n",
    "    \n",
    "    def push(self, data):\n",
    "        self.items.append(data)\n",
    "        self.size += 1\n",
    "        \n",
    "    def pop(self):\n",
    "        self.size -= 1\n",
    "        self.items = self.items[:self.size]\n",
    "        \n",
    "    def peek(self):\n",
    "        return self.items[self.size - 1]\n",
    "        \n",
    "    def print_stack(self):\n",
    "        for i in self.items:\n",
    "            print(i)"
   ]
  },
  {
   "cell_type": "code",
   "execution_count": 34,
   "metadata": {
    "collapsed": false
   },
   "outputs": [
    {
     "name": "stdout",
     "output_type": "stream",
     "text": [
      "4\n",
      "3\n",
      "3\n"
     ]
    }
   ],
   "source": [
    "my_s = my_stack()\n",
    "my_s.push(4)\n",
    "my_s.push(3)\n",
    "my_s.push(20)\n",
    "my_s.pop()\n",
    "my_s.print_stack()\n",
    "print(my_s.peek())"
   ]
  },
  {
   "cell_type": "markdown",
   "metadata": {},
   "source": [
    "# min-heap\n",
    "## the root node is always the smallest"
   ]
  },
  {
   "cell_type": "code",
   "execution_count": null,
   "metadata": {
    "collapsed": true
   },
   "outputs": [],
   "source": []
  }
 ],
 "metadata": {
  "kernelspec": {
   "display_name": "Python 3",
   "language": "python",
   "name": "python3"
  },
  "language_info": {
   "codemirror_mode": {
    "name": "ipython",
    "version": 3
   },
   "file_extension": ".py",
   "mimetype": "text/x-python",
   "name": "python",
   "nbconvert_exporter": "python",
   "pygments_lexer": "ipython3",
   "version": "3.5.2"
  }
 },
 "nbformat": 4,
 "nbformat_minor": 1
}
